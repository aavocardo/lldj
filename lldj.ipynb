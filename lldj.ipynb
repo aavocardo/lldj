{
 "cells": [
  {
   "attachments": {},
   "cell_type": "markdown",
   "metadata": {},
   "source": [
    "<h1 style=font:garmond;font-size:50px;color:orange;text-align:left>Predict AI</h1>"
   ]
  },
  {
   "cell_type": "code",
   "execution_count": null,
   "metadata": {},
   "outputs": [],
   "source": [
    "import pandas as pd\n",
    "import numpy as np"
   ]
  },
  {
   "cell_type": "code",
   "execution_count": null,
   "metadata": {},
   "outputs": [],
   "source": [
    "column_names = ['A', 'B', 'C', 'D', 'E', 'F']\n",
    "df = pd.read_csv('data.csv', names=column_names)\n",
    "\n",
    "print(df)"
   ]
  },
  {
   "attachments": {},
   "cell_type": "markdown",
   "metadata": {},
   "source": [
    "<h2 style=font:garmond;font-size:36px;color:orange;text-align:left>Transformation</h2>"
   ]
  },
  {
   "cell_type": "code",
   "execution_count": null,
   "metadata": {},
   "outputs": [],
   "source": [
    "from sklearn.preprocessing import StandardScaler"
   ]
  },
  {
   "cell_type": "code",
   "execution_count": null,
   "metadata": {},
   "outputs": [],
   "source": [
    "scaler = StandardScaler().fit(df.values)\n",
    "transformed_dataset = scaler.transform(df.values)\n",
    "transformed_dataframe = pd.DataFrame(data=transformed_dataset, index=df.index)"
   ]
  },
  {
   "attachments": {},
   "cell_type": "markdown",
   "metadata": {},
   "source": [
    "<h2 style=font:garmond;font-size:36px;color:orange;text-align:left>Modeling</h2>"
   ]
  },
  {
   "cell_type": "code",
   "execution_count": null,
   "metadata": {},
   "outputs": [],
   "source": [
    "from keras.models import Sequential\n",
    "from keras.layers import LSTM, Dense, Dropout"
   ]
  },
  {
   "cell_type": "code",
   "execution_count": null,
   "metadata": {},
   "outputs": [],
   "source": [
    "number_of_rows = df.values.shape[0]\n",
    "window_length = 20\n",
    "number_of_features = df.values.shape[1]"
   ]
  },
  {
   "cell_type": "code",
   "execution_count": null,
   "metadata": {},
   "outputs": [],
   "source": [
    "train = np.empty([number_of_rows-window_length, window_length, number_of_features], dtype=float)\n",
    "label = np.empty([number_of_rows-window_length, number_of_features], dtype=float)\n",
    "\n",
    "for i in range(0, number_of_rows-window_length):\n",
    "    train[i] = transformed_dataframe.iloc[i:i+window_length, 0: number_of_features]\n",
    "    label[i] = transformed_dataframe.iloc[i+window_length: i+window_length+1, 0: number_of_features]\n",
    "\n",
    "print(f'{train.shape}\\n{label.shape}')"
   ]
  },
  {
   "cell_type": "code",
   "execution_count": null,
   "metadata": {},
   "outputs": [],
   "source": [
    "model = Sequential()\n",
    "model.add(LSTM(56, activation='relu', input_shape=(window_length, number_of_features), return_sequences=True))\n",
    "model.add(Dropout(0.2))\n",
    "model.add(LSTM(56, activation='relu', return_sequences=False))\n",
    "model.add(Dropout(0.2))\n",
    "model.add(Dense(number_of_features))\n",
    "\n",
    "model.compile(loss='mse', optimizer='adam', metrics='accuracy')"
   ]
  },
  {
   "cell_type": "code",
   "execution_count": null,
   "metadata": {},
   "outputs": [],
   "source": [
    "model.summary()"
   ]
  },
  {
   "cell_type": "code",
   "execution_count": null,
   "metadata": {},
   "outputs": [],
   "source": [
    "batch_size = number_of_features\n",
    "epochs = 50\n",
    "\n",
    "history = model.fit(train, label, batch_size=batch_size, epochs=epochs)"
   ]
  },
  {
   "attachments": {},
   "cell_type": "markdown",
   "metadata": {},
   "source": [
    "<h2 style=font:garmond;font-size:36px;color:orange;text-align:left>Result</h2>"
   ]
  },
  {
   "cell_type": "code",
   "execution_count": null,
   "metadata": {},
   "outputs": [],
   "source": [
    "to_predict = np.array(df.iloc[-window_length:])\n",
    "scaled_to_predict = scaler.transform(to_predict)\n",
    "\n",
    "scaled_prediction = model.predict(np.array([scaled_to_predict]))\n",
    "np_prediction = scaler.inverse_transform(scaled_prediction).astype(int)[0]"
   ]
  },
  {
   "cell_type": "code",
   "execution_count": null,
   "metadata": {},
   "outputs": [],
   "source": [
    "print(*np_prediction, sep=', ')"
   ]
  },
  {
   "attachments": {},
   "cell_type": "markdown",
   "metadata": {},
   "source": [
    "<h2 style=font:garmond;font-size:36px;color:orange;text-align:left>Post-training Analysis</h2>"
   ]
  },
  {
   "cell_type": "code",
   "execution_count": null,
   "metadata": {},
   "outputs": [],
   "source": [
    "import matplotlib.pyplot as plt\n",
    "import csv\n",
    "from datetime import datetime"
   ]
  },
  {
   "cell_type": "code",
   "execution_count": null,
   "metadata": {},
   "outputs": [],
   "source": [
    "today = datetime.today()\n",
    "now = datetime.now()\n",
    "\n",
    "date_formatted = today.strftime('%m/%d/%y')\n",
    "time_formatted = now.strftime('%H:%M')\n",
    "\n",
    "title: str = f'{date_formatted}-{time_formatted}'"
   ]
  },
  {
   "cell_type": "code",
   "execution_count": null,
   "metadata": {},
   "outputs": [],
   "source": [
    "plt.plot(history.history['accuracy'])\n",
    "plt.title(title)\n",
    "plt.ylabel('accuracy')\n",
    "plt.xlabel('epoch')\n",
    "plt.grid()\n",
    "plt.show()"
   ]
  },
  {
   "cell_type": "code",
   "execution_count": null,
   "metadata": {},
   "outputs": [],
   "source": [
    "with open('storage.csv', 'a', encoding='UTF-8', newline='') as f:\n",
    "    writer = csv.writer(f)\n",
    "    writer.writerow(np_prediction)\n",
    "\n",
    "column_names = ['A', 'B', 'C', 'D', 'E', 'F']\n",
    "df2 = pd.read_csv('results.csv', names=column_names)\n",
    "\n",
    "print(df2)"
   ]
  }
 ],
 "metadata": {
  "kernelspec": {
   "display_name": "tf2",
   "language": "python",
   "name": "python3"
  },
  "language_info": {
   "codemirror_mode": {
    "name": "ipython",
    "version": 3
   },
   "file_extension": ".py",
   "mimetype": "text/x-python",
   "name": "python",
   "nbconvert_exporter": "python",
   "pygments_lexer": "ipython3",
   "version": "3.8.15 (default, Nov 24 2022, 08:57:44) \n[Clang 14.0.6 ]"
  },
  "orig_nbformat": 4,
  "vscode": {
   "interpreter": {
    "hash": "afb74dc6fa43a5f400cf7829fa62775393b8d474a0bcf1ed12dcbf7b0000953a"
   }
  }
 },
 "nbformat": 4,
 "nbformat_minor": 2
}
