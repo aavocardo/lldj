{
 "cells": [
  {
   "attachments": {},
   "cell_type": "markdown",
   "metadata": {},
   "source": [
    "<h1 style=font:garmond;font-size:50px;color:orange;text-align:left>Predict AI</h1>"
   ]
  },
  {
   "cell_type": "code",
   "execution_count": null,
   "metadata": {},
   "outputs": [],
   "source": [
    "import csv\n",
    "import numpy as np\n",
    "import pandas as pd"
   ]
  },
  {
   "cell_type": "code",
   "execution_count": null,
   "metadata": {},
   "outputs": [],
   "source": [
    "column_names = ['A', 'B', 'C', 'D', 'E', 'F']\n",
    "df = pd.read_csv('data.csv', names=column_names)\n",
    "\n",
    "print(df)"
   ]
  },
  {
   "attachments": {},
   "cell_type": "markdown",
   "metadata": {},
   "source": [
    "<h2 style=font:garmond;font-size:36px;color:orange;text-align:left>Transformation</h2>"
   ]
  },
  {
   "cell_type": "code",
   "execution_count": null,
   "metadata": {},
   "outputs": [],
   "source": [
    "from sklearn.preprocessing import StandardScaler"
   ]
  },
  {
   "cell_type": "code",
   "execution_count": null,
   "metadata": {},
   "outputs": [],
   "source": [
    "scaler = StandardScaler().fit(df.values)\n",
    "transformed_dataset = scaler.transform(df.values)\n",
    "transformed_dataframe = pd.DataFrame(data=transformed_dataset, index=df.index)"
   ]
  },
  {
   "attachments": {},
   "cell_type": "markdown",
   "metadata": {},
   "source": [
    "<h2 style=font:garmond;font-size:36px;color:orange;text-align:left>Modeling</h2>"
   ]
  },
  {
   "cell_type": "code",
   "execution_count": null,
   "outputs": [],
   "source": [
    "from keras.models import Sequential\n",
    "from keras.layers import LSTM, Dense, Dropout, Bidirectional\n",
    "from keras.optimizers import SGD"
   ],
   "metadata": {
    "collapsed": false
   }
  },
  {
   "cell_type": "code",
   "execution_count": null,
   "outputs": [],
   "source": [
    "number_of_rows = df.values.shape[0]\n",
    "window_length = 25\n",
    "number_of_features = df.values.shape[1]"
   ],
   "metadata": {
    "collapsed": false
   }
  },
  {
   "cell_type": "code",
   "execution_count": null,
   "metadata": {},
   "outputs": [],
   "source": [
    "train = np.empty([number_of_rows-window_length, window_length, number_of_features], dtype=float)\n",
    "label = np.empty([number_of_rows-window_length, number_of_features], dtype=float)\n",
    "\n",
    "for i in range(0, number_of_rows-window_length):\n",
    "    train[i] = transformed_dataframe.iloc[i:i+window_length, 0: number_of_features]\n",
    "    label[i] = transformed_dataframe.iloc[i+window_length: i+window_length+1, 0: number_of_features]\n",
    "\n",
    "print(f'{train.shape}\\n{label.shape}')"
   ]
  },
  {
   "cell_type": "code",
   "execution_count": null,
   "metadata": {},
   "outputs": [],
   "source": [
    "model = Sequential()\n",
    "model.add(Bidirectional(LSTM(42, activation='relu', input_shape=(window_length, number_of_features), return_sequences=True)))\n",
    "model.add(Dropout(0.2))\n",
    "model.add(Bidirectional(LSTM(42, activation='relu', return_sequences=False)))\n",
    "model.add(Dropout(0.2))\n",
    "model.add(Dense(number_of_features))"
   ]
  },
  {
   "cell_type": "code",
   "execution_count": null,
   "outputs": [],
   "source": [
    "learning_rate = 0.1\n",
    "momentum = 0.8\n",
    "decay_rate = 0.005\n",
    "\n",
    "sgd = SGD(learning_rate=learning_rate, momentum=momentum, decay=decay_rate, nesterov=False)"
   ],
   "metadata": {
    "collapsed": false
   }
  },
  {
   "cell_type": "code",
   "execution_count": null,
   "outputs": [],
   "source": [
    "model.compile(loss='mse', optimizer=sgd, metrics='accuracy')"
   ],
   "metadata": {
    "collapsed": false
   }
  },
  {
   "cell_type": "code",
   "execution_count": null,
   "metadata": {},
   "outputs": [],
   "source": [
    "batch_size = 32\n",
    "epochs = 100\n",
    "\n",
    "history = model.fit(train, label, batch_size=batch_size, epochs=epochs)"
   ]
  },
  {
   "cell_type": "code",
   "execution_count": null,
   "outputs": [],
   "source": [
    "model.summary()"
   ],
   "metadata": {
    "collapsed": false
   }
  },
  {
   "attachments": {},
   "cell_type": "markdown",
   "metadata": {},
   "source": [
    "<h2 style=font:garmond;font-size:36px;color:orange;text-align:left>Result</h2>"
   ]
  },
  {
   "cell_type": "code",
   "execution_count": null,
   "metadata": {},
   "outputs": [],
   "source": [
    "to_predict = np.array(df.iloc[-window_length:])\n",
    "scaled_to_predict = scaler.transform(to_predict)\n",
    "\n",
    "scaled_prediction = model.predict(np.array([scaled_to_predict]))\n",
    "np_prediction = scaler.inverse_transform(scaled_prediction).astype(int)[0]\n",
    "\n",
    "print(*np_prediction, sep=', ')"
   ]
  },
  {
   "cell_type": "code",
   "execution_count": null,
   "metadata": {},
   "outputs": [],
   "source": [
    "with open('storage.csv', 'a', encoding='UTF-8', newline='') as file:\n",
    "    writer = csv.writer(file)\n",
    "    writer.writerow(np_prediction)"
   ]
  },
  {
   "attachments": {},
   "cell_type": "markdown",
   "metadata": {},
   "source": [
    "<h2 style=font:garmond;font-size:36px;color:orange;text-align:left>Post-training Analysis</h2>"
   ]
  },
  {
   "cell_type": "code",
   "execution_count": 29,
   "metadata": {},
   "outputs": [],
   "source": [
    "import matplotlib.pyplot as plt\n",
    "from datetime import datetime"
   ]
  },
  {
   "cell_type": "code",
   "execution_count": null,
   "metadata": {},
   "outputs": [],
   "source": [
    "column_names = ['A', 'B', 'C', 'D', 'E', 'F']\n",
    "df2 = pd.read_csv('storage.csv', names=column_names)\n",
    "\n",
    "print(df2)"
   ]
  },
  {
   "cell_type": "code",
   "execution_count": null,
   "metadata": {
    "pycharm": {
     "is_executing": true
    }
   },
   "outputs": [],
   "source": [
    "today = datetime.today()\n",
    "now = datetime.now()\n",
    "\n",
    "date_formatted = today.strftime('%m/%d/%y')\n",
    "time_formatted = now.strftime('%H:%M')\n",
    "\n",
    "title: str = f'{date_formatted}-{time_formatted}'\n",
    "\n",
    "plt.figure(figsize=(19.5,9.5))\n",
    "plt.plot(history.history['accuracy'])\n",
    "plt.title(title)\n",
    "plt.ylabel('accuracy', fontsize=14)\n",
    "plt.xlabel('epoch', fontsize=14)\n",
    "plt.grid()\n",
    "plt.show()"
   ]
  }
 ],
 "metadata": {
  "kernelspec": {
   "display_name": "tf2",
   "language": "python",
   "name": "python3"
  },
  "language_info": {
   "codemirror_mode": {
    "name": "ipython",
    "version": 3
   },
   "file_extension": ".py",
   "mimetype": "text/x-python",
   "name": "python",
   "nbconvert_exporter": "python",
   "pygments_lexer": "ipython3",
   "version": "3.8.15"
  },
  "orig_nbformat": 4,
  "vscode": {
   "interpreter": {
    "hash": "afb74dc6fa43a5f400cf7829fa62775393b8d474a0bcf1ed12dcbf7b0000953a"
   }
  }
 },
 "nbformat": 4,
 "nbformat_minor": 2
}
