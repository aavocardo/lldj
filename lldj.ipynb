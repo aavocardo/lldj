{
 "cells": [
  {
   "attachments": {},
   "cell_type": "markdown",
   "metadata": {},
   "source": [
    "<h1 style=font:garmond;font-size:50px;color:orange;text-align:left>Predict ML</h1>"
   ]
  },
  {
   "cell_type": "code",
   "execution_count": 1,
   "outputs": [],
   "source": [
    "import time\n",
    "import csv\n",
    "import numpy as np\n",
    "import pandas as pd\n",
    "import matplotlib.pyplot as plt\n",
    "from datetime import datetime\n",
    "from sklearn.preprocessing import StandardScaler\n",
    "from keras.layers import LSTM, Dense, Dropout, Bidirectional\n",
    "from keras.models import Sequential\n",
    "from compare import precision\n",
    "from functions import collect"
   ],
   "metadata": {
    "collapsed": false
   }
  },
  {
   "attachments": {},
   "cell_type": "markdown",
   "metadata": {},
   "source": [
    "<h2 style=font:garmond;font-size:36px;color:orange;text-align:left>Transformation</h2>"
   ]
  },
  {
   "cell_type": "code",
   "execution_count": 2,
   "metadata": {},
   "outputs": [],
   "source": [
    "df = pd.read_csv('data.csv')\n",
    "scaler = StandardScaler().fit(df.values)\n",
    "transformed_dataset = scaler.transform(df.values)\n",
    "transformed_dataframe = pd.DataFrame(data=transformed_dataset, index=df.index)"
   ]
  },
  {
   "cell_type": "code",
   "execution_count": 3,
   "outputs": [],
   "source": [
    "number_of_rows: int = df.values.shape[0]\n",
    "number_of_features: int = df.values.shape[1]\n",
    "window_size: int = 50"
   ],
   "metadata": {
    "collapsed": false
   }
  },
  {
   "cell_type": "markdown",
   "source": [
    "<h2 style=font:garmond;font-size:36px;color:orange;text-align:left>Training</h2>"
   ],
   "metadata": {
    "collapsed": false
   }
  },
  {
   "cell_type": "code",
   "execution_count": 4,
   "outputs": [],
   "source": [
    "LSTM_NODES: int = 240\n",
    "DENSE_LAYERS: int = number_of_features\n",
    "DROPOUT_VARIANCE: float = 0.2"
   ],
   "metadata": {
    "collapsed": false
   }
  },
  {
   "cell_type": "code",
   "execution_count": 5,
   "outputs": [],
   "source": [
    "model = Sequential()\n",
    "model.add(Bidirectional(LSTM(LSTM_NODES, input_shape=(window_size, number_of_features), return_sequences=True)))\n",
    "model.add(Dropout(DROPOUT_VARIANCE))\n",
    "model.add(Bidirectional(LSTM(LSTM_NODES, input_shape=(window_size, number_of_features), return_sequences=True)))\n",
    "model.add(Dropout(DROPOUT_VARIANCE))\n",
    "model.add(Bidirectional(LSTM(LSTM_NODES, input_shape=(window_size, number_of_features), return_sequences=True)))\n",
    "model.add(Bidirectional(LSTM(LSTM_NODES, input_shape=(window_size, number_of_features), return_sequences=False)))\n",
    "model.add(Dense(DENSE_LAYERS))\n",
    "model.compile(loss='mse', optimizer='rmsprop', metrics=['accuracy'])    # NOQA"
   ],
   "metadata": {
    "collapsed": false
   }
  },
  {
   "cell_type": "code",
   "execution_count": 6,
   "outputs": [],
   "source": [
    "train = np.empty([number_of_rows-window_size, window_size, number_of_features], dtype=float)\n",
    "label = np.empty([number_of_rows-window_size, number_of_features], dtype=float)\n",
    "\n",
    "for i in range(0, number_of_rows-window_size):\n",
    "    train[i]=transformed_dataframe.iloc[i:i+window_size, 0: number_of_features]\n",
    "    label[i]=transformed_dataframe.iloc[i+window_size: i+window_size+1, 0: number_of_features]"
   ],
   "metadata": {
    "collapsed": false
   }
  },
  {
   "cell_type": "code",
   "execution_count": 7,
   "metadata": {},
   "outputs": [
    {
     "name": "stdout",
     "output_type": "stream",
     "text": [
      "Epoch 1/3\n",
      "42/42 [==============================] - 14s 169ms/step - loss: 1.0163 - accuracy: 0.1677\n",
      "Epoch 2/3\n",
      "42/42 [==============================] - 7s 162ms/step - loss: 1.0047 - accuracy: 0.1627\n",
      "Epoch 3/3\n",
      "42/42 [==============================] - 7s 166ms/step - loss: 1.0012 - accuracy: 0.1622\n",
      "\n",
      "Time elapsed: 28.042s\n"
     ]
    }
   ],
   "source": [
    "st: float = time.time()\n",
    "\n",
    "batch_size: int = 48\n",
    "epochs: int = 3\n",
    "\n",
    "history = model.fit(train, label, batch_size=batch_size, epochs=epochs)\n",
    "\n",
    "print(f'\\nTime elapsed: {round(time.time()-st, 3)}s')"
   ]
  },
  {
   "cell_type": "markdown",
   "source": [
    "<h2 style=font:garmond;font-size:36px;color:orange;text-align:left>Prediction</h2>\n"
   ],
   "metadata": {
    "collapsed": false
   }
  },
  {
   "cell_type": "code",
   "execution_count": 8,
   "outputs": [
    {
     "name": "stdout",
     "output_type": "stream",
     "text": [
      "1/1 [==============================] - 3s 3s/step\n",
      "6, 12, 19, 24, 30, 36\n",
      "\n",
      "Time elapsed: 2.667s\n"
     ]
    }
   ],
   "source": [
    "st: float = time.time()\n",
    "\n",
    "to_predict = np.array(df.iloc[-window_size:])\n",
    "scaled_to_predict = scaler.transform(to_predict)\n",
    "\n",
    "scaled_prediction = model.predict(np.array([scaled_to_predict]))\n",
    "np_prediction = scaler.inverse_transform(scaled_prediction).astype(int)[0]\n",
    "\n",
    "print(*np_prediction, sep=', ')\n",
    "\n",
    "print(f'\\nTime elapsed: {round(time.time()-st, 3)}s')"
   ],
   "metadata": {
    "collapsed": false
   }
  },
  {
   "cell_type": "markdown",
   "source": [
    "<h2 style=font:garmond;font-size:36px;color:orange;text-align:left>Result</h2>"
   ],
   "metadata": {
    "collapsed": false
   }
  },
  {
   "cell_type": "code",
   "execution_count": 9,
   "outputs": [
    {
     "name": "stdout",
     "output_type": "stream",
     "text": [
      "Precision = 68%\n",
      "\n",
      "Prediction:\n",
      "6 - 12 - 19 - 24 - 30 - 36\n",
      "\n",
      "Target:\n",
      "14 - 21 - 26 - 35 - 37 - 40\n",
      "\n",
      "Time elapsed: 0.376s\n"
     ]
    }
   ],
   "source": [
    "st: float = time.time()\n",
    "\n",
    "prediction = list(np_prediction)\n",
    "target: list = collect(len(df) + 2)\n",
    "\n",
    "precision: float = precision(prediction, target)\n",
    "\n",
    "print(f'\\nTime elapsed: {round(time.time()-st, 3)}s')"
   ],
   "metadata": {
    "collapsed": false
   }
  },
  {
   "cell_type": "code",
   "execution_count": 10,
   "outputs": [
    {
     "name": "stdout",
     "output_type": "stream",
     "text": [
      "   A   B   C   D   E   F\n",
      "0  6  12  18  24  30  36\n",
      "1  6  12  18  24  30  36\n",
      "2  6  12  19  24  30  36\n"
     ]
    }
   ],
   "source": [
    "with open('storage.csv', 'a', encoding='UTF-8', newline='') as file:\n",
    "    writer = csv.writer(file)\n",
    "    writer.writerow(np_prediction)\n",
    "\n",
    "column_names: list = ['A', 'B', 'C', 'D', 'E', 'F']\n",
    "df2 = pd.read_csv('storage.csv', names=column_names)\n",
    "\n",
    "print(df2.iloc[-6:])"
   ],
   "metadata": {
    "collapsed": false
   }
  },
  {
   "cell_type": "code",
   "execution_count": 11,
   "outputs": [
    {
     "data": {
      "text/plain": "<Figure size 1800x864 with 1 Axes>",
      "image/png": "[encoded data removed]"
     },
     "metadata": {
      "needs_background": "light"
     },
     "output_type": "display_data"
    }
   ],
   "source": [
    "today: datetime = datetime.today()\n",
    "now: datetime = datetime.now()\n",
    "\n",
    "date_formatted: str = today.strftime('%m/%d/%y')\n",
    "time_formatted: str = now.strftime('%H:%M')\n",
    "title: str = f'{date_formatted}-{time_formatted}'\n",
    "\n",
    "plt.figure(figsize=(25, 12))\n",
    "plt.plot(history.history['accuracy'])\n",
    "plt.title(title)\n",
    "plt.ylabel('accuracy', fontsize=14)\n",
    "plt.xlabel('epoch', fontsize=14)\n",
    "plt.grid()\n",
    "plt.show()"
   ],
   "metadata": {
    "collapsed": false
   }
  }
 ],
 "metadata": {
  "kernelspec": {
   "display_name": "tf2",
   "language": "python",
   "name": "python3"
  },
  "language_info": {
   "codemirror_mode": {
    "name": "ipython",
    "version": 3
   },
   "file_extension": ".py",
   "mimetype": "text/x-python",
   "name": "python",
   "nbconvert_exporter": "python",
   "pygments_lexer": "ipython3",
   "version": "3.8.15"
  },
  "orig_nbformat": 4,
  "vscode": {
   "interpreter": {
    "hash": "afb74dc6fa43a5f400cf7829fa62775393b8d474a0bcf1ed12dcbf7b0000953a"
   }
  }
 },
 "nbformat": 4,
 "nbformat_minor": 2
}
