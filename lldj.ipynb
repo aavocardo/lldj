{
 "cells": [
  {
   "attachments": {},
   "cell_type": "markdown",
   "metadata": {},
   "source": [
    "<h1 style=font:garmond;font-size:50px;color:orange;text-align:left>Predict ML</h1>"
   ]
  },
  {
   "cell_type": "code",
   "execution_count": null,
   "outputs": [],
   "source": [
    "import time\n",
    "import csv\n",
    "import numpy as np\n",
    "import pandas as pd\n",
    "import matplotlib.pyplot as plt\n",
    "from datetime import datetime\n",
    "from sklearn.preprocessing import StandardScaler\n",
    "from keras.layers import LSTM, Dense, Dropout, Bidirectional\n",
    "from keras.models import Sequential\n",
    "from compare import precision\n",
    "from functions import collect"
   ],
   "metadata": {
    "collapsed": false
   }
  },
  {
   "attachments": {},
   "cell_type": "markdown",
   "metadata": {},
   "source": [
    "<h2 style=font:garmond;font-size:36px;color:orange;text-align:left>Transformation</h2>"
   ]
  },
  {
   "cell_type": "code",
   "execution_count": null,
   "metadata": {},
   "outputs": [],
   "source": [
    "df = pd.read_csv('data.csv')\n",
    "scaler = StandardScaler().fit(df.values)\n",
    "transformed_dataset = scaler.transform(df.values)\n",
    "transformed_dataframe = pd.DataFrame(data=transformed_dataset, index=df.index)"
   ]
  },
  {
   "cell_type": "code",
   "execution_count": null,
   "outputs": [],
   "source": [
    "number_of_rows: int = df.values.shape[0]\n",
    "number_of_features: int = df.values.shape[1]\n",
    "window_size: int = 50"
   ],
   "metadata": {
    "collapsed": false
   }
  },
  {
   "cell_type": "markdown",
   "source": [
    "<h2 style=font:garmond;font-size:36px;color:orange;text-align:left>Training</h2>"
   ],
   "metadata": {
    "collapsed": false
   }
  },
  {
   "cell_type": "code",
   "execution_count": null,
   "outputs": [],
   "source": [
    "LSTM_NODES: int = 240\n",
    "DENSE_LAYERS: int = number_of_features\n",
    "DROPOUT_VARIANCE: float = 0.2"
   ],
   "metadata": {
    "collapsed": false
   }
  },
  {
   "cell_type": "code",
   "execution_count": null,
   "outputs": [],
   "source": [
    "model = Sequential()\n",
    "model.add(Bidirectional(LSTM(LSTM_NODES, input_shape=(window_size, number_of_features), return_sequences=True)))\n",
    "model.add(Dropout(DROPOUT_VARIANCE))\n",
    "model.add(Bidirectional(LSTM(LSTM_NODES, input_shape=(window_size, number_of_features), return_sequences=True)))\n",
    "model.add(Dropout(DROPOUT_VARIANCE))\n",
    "model.add(Bidirectional(LSTM(LSTM_NODES, input_shape=(window_size, number_of_features), return_sequences=True)))\n",
    "model.add(Bidirectional(LSTM(LSTM_NODES, input_shape=(window_size, number_of_features), return_sequences=False)))\n",
    "model.add(Dense(DENSE_LAYERS))\n",
    "model.compile(loss='mse', optimizer='rmsprop', metrics=['accuracy'])    # NOQA"
   ],
   "metadata": {
    "collapsed": false
   }
  },
  {
   "cell_type": "code",
   "execution_count": null,
   "outputs": [],
   "source": [
    "train = np.empty([number_of_rows-window_size, window_size, number_of_features], dtype=float)\n",
    "label = np.empty([number_of_rows-window_size, number_of_features], dtype=float)\n",
    "\n",
    "for i in range(0, number_of_rows-window_size):\n",
    "    train[i]=transformed_dataframe.iloc[i:i+window_size, 0: number_of_features]\n",
    "    label[i]=transformed_dataframe.iloc[i+window_size: i+window_size+1, 0: number_of_features]"
   ],
   "metadata": {
    "collapsed": false
   }
  },
  {
   "cell_type": "code",
   "execution_count": null,
   "metadata": {},
   "outputs": [],
   "source": [
    "st: float = time.time()\n",
    "\n",
    "batch_size: int = 48\n",
    "epochs: int = 3\n",
    "\n",
    "history = model.fit(train, label, batch_size=batch_size, epochs=epochs)\n",
    "\n",
    "print(f'\\nTime elapsed: {round(time.time()-st, 3)}s')"
   ]
  },
  {
   "cell_type": "markdown",
   "source": [
    "<h2 style=font:garmond;font-size:36px;color:orange;text-align:left>Prediction</h2>\n"
   ],
   "metadata": {
    "collapsed": false
   }
  },
  {
   "cell_type": "code",
   "execution_count": null,
   "outputs": [],
   "source": [
    "st: float = time.time()\n",
    "\n",
    "to_predict = np.array(df.iloc[-window_size:])\n",
    "scaled_to_predict = scaler.transform(to_predict)\n",
    "\n",
    "scaled_prediction = model.predict(np.array([scaled_to_predict]))\n",
    "np_prediction = scaler.inverse_transform(scaled_prediction).astype(int)[0]\n",
    "\n",
    "print(*np_prediction, sep=', ')\n",
    "\n",
    "print(f'\\nTime elapsed: {round(time.time()-st, 3)}s')"
   ],
   "metadata": {
    "collapsed": false
   }
  },
  {
   "cell_type": "markdown",
   "source": [
    "<h2 style=font:garmond;font-size:36px;color:orange;text-align:left>Result</h2>"
   ],
   "metadata": {
    "collapsed": false
   }
  },
  {
   "cell_type": "code",
   "execution_count": null,
   "outputs": [],
   "source": [
    "prediction = list(np_prediction)\n",
    "target: list = collect(len(df) + 2)\n",
    "\n",
    "precision: float = precision(prediction, target)"
   ],
   "metadata": {
    "collapsed": false
   }
  },
  {
   "cell_type": "code",
   "execution_count": null,
   "outputs": [],
   "source": [
    "with open('storage.csv', 'a', encoding='UTF-8', newline='') as file:\n",
    "    writer = csv.writer(file)\n",
    "    writer.writerow(np_prediction)\n",
    "\n",
    "column_names: list = ['A', 'B', 'C', 'D', 'E', 'F']\n",
    "df2 = pd.read_csv('storage.csv', names=column_names)\n",
    "\n",
    "print(df2.iloc[-6:])"
   ],
   "metadata": {
    "collapsed": false
   }
  },
  {
   "cell_type": "code",
   "execution_count": null,
   "outputs": [],
   "source": [
    "today: datetime = datetime.today()\n",
    "now: datetime = datetime.now()\n",
    "\n",
    "date_formatted: str = today.strftime('%m/%d/%y')\n",
    "time_formatted: str = now.strftime('%H:%M')\n",
    "title: str = f'{date_formatted}-{time_formatted}'\n",
    "\n",
    "plt.figure(figsize=(25, 12))\n",
    "plt.plot(history.history['accuracy'])\n",
    "plt.title(title)\n",
    "plt.ylabel('accuracy', fontsize=14)\n",
    "plt.xlabel('epoch', fontsize=14)\n",
    "plt.grid()\n",
    "plt.show()"
   ],
   "metadata": {
    "collapsed": false
   }
  }
 ],
 "metadata": {
  "kernelspec": {
   "display_name": "tf2",
   "language": "python",
   "name": "python3"
  },
  "language_info": {
   "codemirror_mode": {
    "name": "ipython",
    "version": 3
   },
   "file_extension": ".py",
   "mimetype": "text/x-python",
   "name": "python",
   "nbconvert_exporter": "python",
   "pygments_lexer": "ipython3",
   "version": "3.8.15"
  },
  "orig_nbformat": 4,
  "vscode": {
   "interpreter": {
    "hash": "afb74dc6fa43a5f400cf7829fa62775393b8d474a0bcf1ed12dcbf7b0000953a"
   }
  }
 },
 "nbformat": 4,
 "nbformat_minor": 2
}
