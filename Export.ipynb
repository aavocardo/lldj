{
 "cells": [
  {
   "cell_type": "code",
   "execution_count": 1,
   "outputs": [],
   "source": [
    "from Export import Export\n",
    "import pandas as pd"
   ],
   "metadata": {
    "collapsed": false
   }
  },
  {
   "cell_type": "code",
   "execution_count": 2,
   "outputs": [],
   "source": [
    "def main() -> None:\n",
    "    test: Export = Export()\n",
    "\n",
    "    test.compare([5, 19, 10], [6, 10, 11], 5, 10)\n",
    "\n",
    "    print(test.__repr__())\n",
    "    print(test.__str__())\n",
    "\n",
    "    test.df.to_csv('./Data/Export.csv', index=False)\n",
    "\n",
    "    print('\\n\\n')\n",
    "    print(test.history)"
   ],
   "metadata": {
    "collapsed": false
   }
  },
  {
   "cell_type": "code",
   "execution_count": 3,
   "outputs": [
    {
     "name": "stdout",
     "output_type": "stream",
     "text": [
      "<class 'Export.Export'>\n",
      "Epochs = None\n",
      "Batch Size: None\n",
      "Window Size: None\n",
      "LSTM Nodes: None\n",
      "Dense Layers:None\n",
      "Dropout Variance: None\n",
      "Prediction: 5 - 19 - 10\n",
      "Target: 6 - 10 - 11\n",
      "Accuracy: 5%\n",
      "Time Taken: 10\n",
      "Date: 03/12/23\n",
      "Time: 11:41\n",
      "\n",
      "\n",
      "\n",
      "Empty DataFrame\n",
      "Columns: [Prediction, Target, Accuracy, Epochs, Window Size, Batch Size, LSTM, Dropout Variance, Dense Layers]\n",
      "Index: []\n"
     ]
    }
   ],
   "source": [
    "main()"
   ],
   "metadata": {
    "collapsed": false
   }
  }
 ],
 "metadata": {
  "kernelspec": {
   "display_name": "Python 3",
   "language": "python",
   "name": "python3"
  },
  "language_info": {
   "codemirror_mode": {
    "name": "ipython",
    "version": 2
   },
   "file_extension": ".py",
   "mimetype": "text/x-python",
   "name": "python",
   "nbconvert_exporter": "python",
   "pygments_lexer": "ipython2",
   "version": "2.7.6"
  }
 },
 "nbformat": 4,
 "nbformat_minor": 0
}
