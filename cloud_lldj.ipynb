{
 "cells": [
  {
   "attachments": {},
   "cell_type": "markdown",
   "metadata": {},
   "source": [
    "<h1 style=font:garmond;font-size:50px;color:orange;text-align:left>Predict ML</h1>"
   ]
  },
  {
   "cell_type": "code",
   "execution_count": 1,
   "outputs": [],
   "source": [
    "import csv\n",
    "import numpy as np\n",
    "import pandas as pd\n",
    "import matplotlib.pyplot as plt\n",
    "from datetime import datetime\n",
    "from typing import List\n",
    "from sklearn.preprocessing import StandardScaler\n",
    "from keras.layers import LSTM, Dense, Dropout, Bidirectional\n",
    "from keras.models import Sequential\n",
    "from main import Review, Timer, Lottery\n",
    "from google.cloud import aiplatform\n",
    "from google.oauth2 import service_account"
   ],
   "metadata": {
    "collapsed": false
   }
  },
  {
   "cell_type": "code",
   "execution_count": null,
   "outputs": [],
   "source": [
    "KEY = None\n",
    "credentials = service_account.Credentials.from_service_account_file(KEY)\n"
   ],
   "metadata": {
    "collapsed": false
   }
  },
  {
   "attachments": {},
   "cell_type": "markdown",
   "metadata": {},
   "source": [
    "<h2 style=font:garmond;font-size:36px;color:orange;text-align:left>Transformation</h2>"
   ]
  },
  {
   "cell_type": "code",
   "execution_count": 2,
   "metadata": {},
   "outputs": [],
   "source": [
    "base_df = pd.read_csv('data.csv', names=['A', 'B', 'C', 'D', 'E', 'F'])\n",
    "df = base_df.iloc[:-1]\n",
    "# Using all but final row of dataframe for model, and final row as target for testing and model validation\n",
    "scaler = StandardScaler().fit(df.values)\n",
    "transformed_dataset = scaler.transform(df.values)\n",
    "transformed_dataframe = pd.DataFrame(data=transformed_dataset, index=df.index)"
   ]
  },
  {
   "cell_type": "code",
   "execution_count": 3,
   "outputs": [
    {
     "data": {
      "text/plain": "   A   B   C   D   E   F\n0  7  25  11   8  20  32\n1  5  19  13  42  21  28\n2  4  10  18  35  36  38\n3  8  16  17  23  29  32\n4  4   7  10  16  27  41",
      "text/html": "<div>\n<style scoped>\n    .dataframe tbody tr th:only-of-type {\n        vertical-align: middle;\n    }\n\n    .dataframe tbody tr th {\n        vertical-align: top;\n    }\n\n    .dataframe thead th {\n        text-align: right;\n    }\n</style>\n<table border=\"1\" class=\"dataframe\">\n  <thead>\n    <tr style=\"text-align: right;\">\n      <th></th>\n      <th>A</th>\n      <th>B</th>\n      <th>C</th>\n      <th>D</th>\n      <th>E</th>\n      <th>F</th>\n    </tr>\n  </thead>\n  <tbody>\n    <tr>\n      <th>0</th>\n      <td>7</td>\n      <td>25</td>\n      <td>11</td>\n      <td>8</td>\n      <td>20</td>\n      <td>32</td>\n    </tr>\n    <tr>\n      <th>1</th>\n      <td>5</td>\n      <td>19</td>\n      <td>13</td>\n      <td>42</td>\n      <td>21</td>\n      <td>28</td>\n    </tr>\n    <tr>\n      <th>2</th>\n      <td>4</td>\n      <td>10</td>\n      <td>18</td>\n      <td>35</td>\n      <td>36</td>\n      <td>38</td>\n    </tr>\n    <tr>\n      <th>3</th>\n      <td>8</td>\n      <td>16</td>\n      <td>17</td>\n      <td>23</td>\n      <td>29</td>\n      <td>32</td>\n    </tr>\n    <tr>\n      <th>4</th>\n      <td>4</td>\n      <td>7</td>\n      <td>10</td>\n      <td>16</td>\n      <td>27</td>\n      <td>41</td>\n    </tr>\n  </tbody>\n</table>\n</div>"
     },
     "execution_count": 3,
     "metadata": {},
     "output_type": "execute_result"
    }
   ],
   "source": [
    "df.head()"
   ],
   "metadata": {
    "collapsed": false
   }
  },
  {
   "cell_type": "code",
   "execution_count": 4,
   "outputs": [],
   "source": [
    "number_of_rows: int = df.values.shape[0]\n",
    "number_of_features: int = df.values.shape[1]\n",
    "window_size: int = 21"
   ],
   "metadata": {
    "collapsed": false
   }
  },
  {
   "cell_type": "code",
   "execution_count": 5,
   "outputs": [],
   "source": [
    "train = np.empty([number_of_rows-window_size, window_size, number_of_features], dtype=float)\n",
    "label = np.empty([number_of_rows-window_size, number_of_features], dtype=float)\n",
    "\n",
    "for i in range(0, number_of_rows-window_size):\n",
    "    train[i]=transformed_dataframe.iloc[i:i+window_size, 0: number_of_features]\n",
    "    label[i]=transformed_dataframe.iloc[i+window_size: i+window_size+1, 0: number_of_features]\n",
    "\n",
    "# print(f'{train.shape=}\\n{label.shape=}')"
   ],
   "metadata": {
    "collapsed": false
   }
  },
  {
   "cell_type": "markdown",
   "source": [
    "<h2 style=font:garmond;font-size:36px;color:orange;text-align:left>Training</h2>"
   ],
   "metadata": {
    "collapsed": false
   }
  },
  {
   "cell_type": "code",
   "execution_count": 6,
   "outputs": [],
   "source": [
    "LSTM_NODES: int = 240\n",
    "DENSE_LAYERS: int = 6\n",
    "DROPOUT_VARIANCE: float = 0.2"
   ],
   "metadata": {
    "collapsed": false
   }
  },
  {
   "cell_type": "code",
   "execution_count": 7,
   "outputs": [],
   "source": [
    "model = Sequential()\n",
    "model.add(Bidirectional(LSTM(LSTM_NODES, input_shape=(window_size, number_of_features), return_sequences=True)))\n",
    "model.add(Dropout(DROPOUT_VARIANCE))\n",
    "model.add(Bidirectional(LSTM(LSTM_NODES, input_shape=(window_size, number_of_features), return_sequences=True)))\n",
    "model.add(Dropout(DROPOUT_VARIANCE))\n",
    "model.add(Bidirectional(LSTM(LSTM_NODES, input_shape=(window_size, number_of_features), return_sequences=True)))\n",
    "model.add(Bidirectional(LSTM(LSTM_NODES, input_shape=(window_size, number_of_features), return_sequences=False)))\n",
    "model.add(Dense(DENSE_LAYERS))\n",
    "model.compile(loss='mse', optimizer='rmsprop', metrics=['accuracy'])    # NOQA"
   ],
   "metadata": {
    "collapsed": false
   }
  },
  {
   "cell_type": "code",
   "execution_count": 8,
   "metadata": {},
   "outputs": [
    {
     "name": "stdout",
     "output_type": "stream",
     "text": [
      "Epoch 1/2\n",
      "74/74 [==============================] - 16s 106ms/step - loss: 1.0146 - accuracy: 0.1638\n",
      "Epoch 2/2\n",
      "74/74 [==============================] - 7s 91ms/step - loss: 1.0075 - accuracy: 0.1973\n",
      "Time taken: 22.679s\n"
     ]
    }
   ],
   "source": [
    "timer = Timer()\n",
    "timer.start()\n",
    "\n",
    "batch_size: int = 28\n",
    "epochs: int = 2\n",
    "\n",
    "history = model.fit(train, label, batch_size=batch_size, epochs=epochs)\n",
    "\n",
    "timer.stop()"
   ]
  },
  {
   "cell_type": "markdown",
   "source": [
    "<h2 style=font:garmond;font-size:36px;color:orange;text-align:left>Prediction</h2>\n"
   ],
   "metadata": {
    "collapsed": false
   }
  },
  {
   "cell_type": "code",
   "execution_count": 9,
   "outputs": [
    {
     "name": "stdout",
     "output_type": "stream",
     "text": [
      "1/1 [==============================] - 52s 52s/step\n",
      "Time taken: 52.163s\n",
      "\n",
      "Prediction: 6, 12, 18, 24, 29, 36\n"
     ]
    }
   ],
   "source": [
    "timer.start()\n",
    "\n",
    "to_predict = np.array(df)\n",
    "scaled_to_predict = scaler.transform(to_predict)\n",
    "\n",
    "scaled_prediction = model.predict(np.array([scaled_to_predict]))\n",
    "np_prediction: List[int] = scaler.inverse_transform(scaled_prediction).astype(int)[0]\n",
    "\n",
    "timer.stop()\n",
    "\n",
    "print('\\nPrediction: ', end='')\n",
    "print(*np_prediction, sep=', ')"
   ],
   "metadata": {
    "collapsed": false
   }
  },
  {
   "cell_type": "markdown",
   "source": [
    "<h2 style=font:garmond;font-size:36px;color:orange;text-align:left>Result</h2>"
   ],
   "metadata": {
    "collapsed": false
   }
  },
  {
   "cell_type": "code",
   "execution_count": 10,
   "outputs": [
    {
     "name": "stdout",
     "output_type": "stream",
     "text": [
      "Prediction: 6, 12, 18, 24, 29, 36\n",
      "Target: 5, 9, 14, 25, 30, 35\n"
     ]
    }
   ],
   "source": [
    "prediction = list(np_prediction)\n",
    "target = list(base_df.iloc[-1])\n",
    "# Using all but final row of dataframe for model, and final row as target\n",
    "\n",
    "# target: List[int] = Lottery(len(df)+2).collect(timer=True)\n",
    "# Above using Lottery class to get draw result, however this is only to be used for functional methods once model is validated\n",
    "\n",
    "quality = Review(prediction, target)\n",
    "quality.show()"
   ],
   "metadata": {
    "collapsed": false
   }
  },
  {
   "cell_type": "code",
   "execution_count": 11,
   "outputs": [
    {
     "name": "stdout",
     "output_type": "stream",
     "text": [
      "    A   B   C   D   E   F\n",
      "5   6  12  18  24  30  36\n",
      "6   6  12  17  24  30  37\n",
      "7   0   0   0   0   0   0\n",
      "8   3   6  13  26  36  39\n",
      "9   0   4   7  22  34  40\n",
      "10  6  12  18  24  29  36\n"
     ]
    }
   ],
   "source": [
    "with open('predictions.csv', 'a', encoding='UTF-8', newline='') as file:\n",
    "    writer = csv.writer(file)\n",
    "    writer.writerow(np_prediction)\n",
    "\n",
    "column_names: List[str] = ['A', 'B', 'C', 'D', 'E', 'F']\n",
    "df2 = pd.read_csv('predictions.csv', names=column_names)\n",
    "\n",
    "print(df2.iloc[-6:])"
   ],
   "metadata": {
    "collapsed": false
   }
  },
  {
   "cell_type": "code",
   "execution_count": 12,
   "outputs": [
    {
     "data": {
      "text/plain": "<Figure size 1728x792 with 1 Axes>",
      "image/png": "[encoded data removed]"
     },
     "metadata": {
      "needs_background": "light"
     },
     "output_type": "display_data"
    }
   ],
   "source": [
    "today: datetime = datetime.today()\n",
    "now: datetime = datetime.now()\n",
    "\n",
    "date_formatted: str = today.strftime('%m/%d/%y')\n",
    "time_formatted: str = now.strftime('%H:%M')\n",
    "title: str = f'{date_formatted}-{time_formatted}'\n",
    "\n",
    "plt.figure(figsize=(24, 11))\n",
    "plt.plot(history.history['accuracy'])\n",
    "plt.title(title)\n",
    "plt.ylabel('accuracy', fontsize=14)\n",
    "plt.xlabel('epoch', fontsize=14)\n",
    "plt.grid()\n",
    "plt.show()"
   ],
   "metadata": {
    "collapsed": false
   }
  }
 ],
 "metadata": {
  "kernelspec": {
   "display_name": "tf2",
   "language": "python",
   "name": "python3"
  },
  "language_info": {
   "codemirror_mode": {
    "name": "ipython",
    "version": 3
   },
   "file_extension": ".py",
   "mimetype": "text/x-python",
   "name": "python",
   "nbconvert_exporter": "python",
   "pygments_lexer": "ipython3",
   "version": "3.8.15"
  },
  "orig_nbformat": 4,
  "vscode": {
   "interpreter": {
    "hash": "afb74dc6fa43a5f400cf7829fa62775393b8d474a0bcf1ed12dcbf7b0000953a"
   }
  }
 },
 "nbformat": 4,
 "nbformat_minor": 2
}
