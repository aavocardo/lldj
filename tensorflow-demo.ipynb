{
 "cells": [
  {
   "cell_type": "code",
   "execution_count": 1,
   "id": "9e96e9e0",
   "metadata": {},
   "outputs": [
    {
     "name": "stdout",
     "output_type": "stream",
     "text": [
      "Num GPUs Available:  1\n"
     ]
    }
   ],
   "source": [
    "import tensorflow as tf\n",
    "print(\"Num GPUs Available: \", len(tf.config.experimental.list_physical_devices('GPU')))"
   ]
  },
  {
   "cell_type": "code",
   "execution_count": 2,
   "id": "d46d6ba6",
   "metadata": {},
   "outputs": [
    {
     "name": "stdout",
     "output_type": "stream",
     "text": [
      "TensorFlow version: 2.9.0\n",
      "Num GPUs Available:  1\n",
      "WARNING:tensorflow:AutoGraph could not transform <function normalize_img at 0x152063dc0> and will run it as-is.\n",
      "Cause: Unable to locate the source code of <function normalize_img at 0x152063dc0>. Note that functions defined in certain environments, like the interactive Python shell, do not expose their source code. If that is the case, you should define them in a .py source file. If you are certain the code is graph-compatible, wrap the call using @tf.autograph.experimental.do_not_convert. Original error: could not get source code\n",
      "To silence this warning, decorate the function with @tf.autograph.experimental.do_not_convert\n"
     ]
    },
    {
     "name": "stderr",
     "output_type": "stream",
     "text": [
      "WARNING:tensorflow:AutoGraph could not transform <function normalize_img at 0x152063dc0> and will run it as-is.\n",
      "Cause: Unable to locate the source code of <function normalize_img at 0x152063dc0>. Note that functions defined in certain environments, like the interactive Python shell, do not expose their source code. If that is the case, you should define them in a .py source file. If you are certain the code is graph-compatible, wrap the call using @tf.autograph.experimental.do_not_convert. Original error: could not get source code\n",
      "To silence this warning, decorate the function with @tf.autograph.experimental.do_not_convert\n"
     ]
    },
    {
     "name": "stdout",
     "output_type": "stream",
     "text": [
      "WARNING: AutoGraph could not transform <function normalize_img at 0x152063dc0> and will run it as-is.\n",
      "Cause: Unable to locate the source code of <function normalize_img at 0x152063dc0>. Note that functions defined in certain environments, like the interactive Python shell, do not expose their source code. If that is the case, you should define them in a .py source file. If you are certain the code is graph-compatible, wrap the call using @tf.autograph.experimental.do_not_convert. Original error: could not get source code\n",
      "To silence this warning, decorate the function with @tf.autograph.experimental.do_not_convert\n",
      "Epoch 1/12\n",
      "469/469 [==============================] - 13s 23ms/step - loss: 0.1541 - accuracy: 0.9546 - val_loss: 0.0476 - val_accuracy: 0.9849\n",
      "Epoch 2/12\n",
      "469/469 [==============================] - 11s 22ms/step - loss: 0.0421 - accuracy: 0.9868 - val_loss: 0.0348 - val_accuracy: 0.9892\n",
      "Epoch 3/12\n",
      "469/469 [==============================] - 10s 22ms/step - loss: 0.0260 - accuracy: 0.9917 - val_loss: 0.0372 - val_accuracy: 0.9877\n",
      "Epoch 4/12\n",
      "469/469 [==============================] - 10s 22ms/step - loss: 0.0165 - accuracy: 0.9948 - val_loss: 0.0344 - val_accuracy: 0.9897\n",
      "Epoch 5/12\n",
      "469/469 [==============================] - 10s 21ms/step - loss: 0.0141 - accuracy: 0.9952 - val_loss: 0.0362 - val_accuracy: 0.9889\n",
      "Epoch 6/12\n",
      "469/469 [==============================] - 10s 21ms/step - loss: 0.0093 - accuracy: 0.9970 - val_loss: 0.0388 - val_accuracy: 0.9894\n",
      "Epoch 7/12\n",
      "469/469 [==============================] - 10s 21ms/step - loss: 0.0071 - accuracy: 0.9977 - val_loss: 0.0374 - val_accuracy: 0.9906\n",
      "Epoch 8/12\n",
      "469/469 [==============================] - 11s 23ms/step - loss: 0.0061 - accuracy: 0.9980 - val_loss: 0.0389 - val_accuracy: 0.9900\n",
      "Epoch 9/12\n",
      "469/469 [==============================] - 11s 23ms/step - loss: 0.0052 - accuracy: 0.9985 - val_loss: 0.0425 - val_accuracy: 0.9892\n",
      "Epoch 10/12\n",
      "469/469 [==============================] - 11s 22ms/step - loss: 0.0039 - accuracy: 0.9986 - val_loss: 0.0469 - val_accuracy: 0.9893\n",
      "Epoch 11/12\n",
      "469/469 [==============================] - 10s 21ms/step - loss: 0.0064 - accuracy: 0.9977 - val_loss: 0.0506 - val_accuracy: 0.9884\n",
      "Epoch 12/12\n",
      "469/469 [==============================] - 10s 21ms/step - loss: 0.0034 - accuracy: 0.9990 - val_loss: 0.0505 - val_accuracy: 0.9893\n",
      "CPU times: user 49.1 s, sys: 27.3 s, total: 1min 16s\n",
      "Wall time: 2min 6s\n"
     ]
    },
    {
     "data": {
      "text/plain": "<keras.callbacks.History at 0x1523e3790>"
     },
     "execution_count": 2,
     "metadata": {},
     "output_type": "execute_result"
    }
   ],
   "source": [
    "%%time\n",
    "import tensorflow as tf\n",
    "import tensorflow_datasets as tfds\n",
    "print(\"TensorFlow version:\", tf.__version__)\n",
    "print(\"Num GPUs Available: \", len(tf.config.experimental.list_physical_devices('GPU')))\n",
    "tf.config.list_physical_devices('GPU')\n",
    "(ds_train, ds_test), ds_info = tfds.load(\n",
    "    'mnist',\n",
    "    split=['train', 'test'],\n",
    "    shuffle_files=True,\n",
    "    as_supervised=True,\n",
    "    with_info=True,\n",
    ")\n",
    "def normalize_img(image, label):\n",
    "  \"\"\"Normalizes images: `uint8` -> `float32`.\"\"\"\n",
    "  return tf.cast(image, tf.float32) / 255., label\n",
    "batch_size = 128\n",
    "ds_train = ds_train.map(\n",
    "    normalize_img, num_parallel_calls=tf.data.experimental.AUTOTUNE)\n",
    "ds_train = ds_train.cache()\n",
    "ds_train = ds_train.shuffle(ds_info.splits['train'].num_examples)\n",
    "ds_train = ds_train.batch(batch_size)\n",
    "ds_train = ds_train.prefetch(tf.data.experimental.AUTOTUNE)\n",
    "ds_test = ds_test.map(\n",
    "    normalize_img, num_parallel_calls=tf.data.experimental.AUTOTUNE)\n",
    "ds_test = ds_test.batch(batch_size)\n",
    "ds_test = ds_test.cache()\n",
    "ds_test = ds_test.prefetch(tf.data.experimental.AUTOTUNE)\n",
    "model = tf.keras.models.Sequential([\n",
    "  tf.keras.layers.Conv2D(32, kernel_size=(3, 3),\n",
    "                 activation='relu'),\n",
    "  tf.keras.layers.Conv2D(64, kernel_size=(3, 3),\n",
    "                 activation='relu'),\n",
    "  tf.keras.layers.MaxPooling2D(pool_size=(2, 2)),\n",
    "#   tf.keras.layers.Dropout(0.25),\n",
    "  tf.keras.layers.Flatten(),\n",
    "  tf.keras.layers.Dense(128, activation='relu'),\n",
    "#   tf.keras.layers.Dropout(0.5),\n",
    "  tf.keras.layers.Dense(10, activation='softmax')\n",
    "])\n",
    "model.compile(\n",
    "    loss='sparse_categorical_crossentropy',\n",
    "    optimizer=tf.keras.optimizers.Adam(0.001),\n",
    "    metrics=['accuracy'],\n",
    ")\n",
    "model.fit(\n",
    "    ds_train,\n",
    "    epochs=12,\n",
    "    validation_data=ds_test,\n",
    ")"
   ]
  }
 ],
 "metadata": {
  "kernelspec": {
   "display_name": "Python 3",
   "language": "python",
   "name": "python3"
  },
  "language_info": {
   "codemirror_mode": {
    "name": "ipython",
    "version": 3
   },
   "file_extension": ".py",
   "mimetype": "text/x-python",
   "name": "python",
   "nbconvert_exporter": "python",
   "pygments_lexer": "ipython3",
   "version": "3.8.15"
  }
 },
 "nbformat": 4,
 "nbformat_minor": 5
}
